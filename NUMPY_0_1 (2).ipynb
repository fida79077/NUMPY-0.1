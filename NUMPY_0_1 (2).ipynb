{
  "nbformat": 4,
  "nbformat_minor": 0,
  "metadata": {
    "colab": {
      "provenance": []
    },
    "kernelspec": {
      "name": "python3",
      "display_name": "Python 3"
    },
    "language_info": {
      "name": "python"
    }
  },
  "cells": [
    {
      "cell_type": "markdown",
      "source": [
        "class name of numpy is ndarray\n",
        "\n",
        "Numpy is a python library used for working with arrays\n",
        "\n",
        "In python we have lists thet serves the purpose of arrays,but they are slow to process.\n",
        "\n",
        "Numpy aims to provide an array object that is upto 50* faster than traditional Python list.\n",
        "\n",
        "The array object in numpy is called ndarry,it provides a lots of supporting functions that make working with ndarry very easy\n",
        "\n",
        "Arrays are very frequently used in data science , where speed and resources and very important\n",
        "\n",
        "Collection of homogenous data\n",
        "\n",
        "It does not support heterogenous data\n",
        "\n",
        "size is fixed"
      ],
      "metadata": {
        "id": "4e6XIjBwzhYq"
      }
    },
    {
      "cell_type": "code",
      "execution_count": null,
      "metadata": {
        "id": "o-CQe6MPwJij"
      },
      "outputs": [],
      "source": [
        "import numpy as np"
      ]
    },
    {
      "cell_type": "code",
      "source": [
        "import numpy as np\n",
        "\n",
        "x = np.ndarray([1,2,5,6])\n",
        "\n",
        "print(x)"
      ],
      "metadata": {
        "colab": {
          "base_uri": "https://localhost:8080/"
        },
        "id": "ieksogHB1HMz",
        "outputId": "5e9152c6-ec7d-4dfe-9c12-f89fef783af3"
      },
      "execution_count": null,
      "outputs": [
        {
          "output_type": "stream",
          "name": "stdout",
          "text": [
            "[[[[ 5.00124735e-310  0.00000000e+000  6.67433625e-310  1.65575615e-116\n",
            "     6.67431579e-310  6.67433625e-310]\n",
            "   [ 5.04199728e-136  6.67431579e-310  6.67433625e-310  2.05698503e-175\n",
            "     6.67431579e-310  6.67433625e-310]\n",
            "   [ 6.43879145e+091  6.67431579e-310  6.67433625e-310 -1.59523652e-230\n",
            "     6.67431579e-310  6.67433625e-310]\n",
            "   [-8.23548975e-215  6.67431579e-310  6.67433625e-310 -2.98351608e-022\n",
            "     6.67431579e-310  6.67433625e-310]\n",
            "   [-1.98168549e+002  6.67431579e-310  6.67433625e-310 -1.55964706e-006\n",
            "     6.67431579e-310  6.67433625e-310]]\n",
            "\n",
            "  [[-7.47732907e+272  6.67431579e-310  6.67433625e-310 -2.37248833e-011\n",
            "     6.67431571e-310  6.67433625e-310]\n",
            "   [-6.50817626e+220  6.67431571e-310  6.67433625e-310 -3.27680768e+028\n",
            "     6.67431571e-310  6.67433625e-310]\n",
            "   [-1.20471793e-009  6.67431571e-310  6.67433625e-310  7.68773660e+208\n",
            "     6.67431571e-310  6.67433625e-310]\n",
            "   [-1.13678384e+268  6.67431571e-310  6.67433625e-310  3.90815900e+016\n",
            "     6.67431571e-310  6.67433625e-310]\n",
            "   [-9.72584565e+196  6.67431579e-310  6.67433625e-310 -3.23713336e-079\n",
            "     6.67431572e-310  6.67433625e-310]]]]\n"
          ]
        }
      ]
    },
    {
      "cell_type": "code",
      "source": [
        "import numpy as np\n",
        "\n",
        "x = np.array([1,2,5,6])\n",
        "\n",
        "print(x)"
      ],
      "metadata": {
        "colab": {
          "base_uri": "https://localhost:8080/"
        },
        "id": "jOH9ghzk1Uso",
        "outputId": "a40a8879-b154-477c-b94c-6771ceb45176"
      },
      "execution_count": null,
      "outputs": [
        {
          "output_type": "stream",
          "name": "stdout",
          "text": [
            "[1 2 5 6]\n"
          ]
        }
      ]
    },
    {
      "cell_type": "code",
      "source": [
        "print(type(x))"
      ],
      "metadata": {
        "colab": {
          "base_uri": "https://localhost:8080/"
        },
        "id": "Jz8AcFga1o-d",
        "outputId": "c23de752-260b-44e3-ee43-414389cf3728"
      },
      "execution_count": null,
      "outputs": [
        {
          "output_type": "stream",
          "name": "stdout",
          "text": [
            "<class 'numpy.ndarray'>\n"
          ]
        }
      ]
    },
    {
      "cell_type": "code",
      "source": [
        "print(x.ndim)"
      ],
      "metadata": {
        "colab": {
          "base_uri": "https://localhost:8080/"
        },
        "id": "T1zbpe4Q1zc_",
        "outputId": "cb3ff778-3485-4ea7-a3af-1368d7d3655b"
      },
      "execution_count": null,
      "outputs": [
        {
          "output_type": "stream",
          "name": "stdout",
          "text": [
            "1\n"
          ]
        }
      ]
    },
    {
      "cell_type": "code",
      "source": [
        "print(x.shape)"
      ],
      "metadata": {
        "colab": {
          "base_uri": "https://localhost:8080/"
        },
        "id": "lk9Jh3bM12-c",
        "outputId": "c5508858-0291-4e3d-eaa2-4baa0a772911"
      },
      "execution_count": null,
      "outputs": [
        {
          "output_type": "stream",
          "name": "stdout",
          "text": [
            "(4,)\n"
          ]
        }
      ]
    },
    {
      "cell_type": "code",
      "source": [
        "import numpy as np\n",
        "\n",
        "x = np.array([[1,2,3,44],[1,2,3,4]])\n",
        "\n",
        "print(x)\n",
        "print(x.shape)\n",
        "print(x.ndim)"
      ],
      "metadata": {
        "colab": {
          "base_uri": "https://localhost:8080/"
        },
        "id": "de49Wh0H17pD",
        "outputId": "1c038545-9797-4c26-d399-67d1cc5656ed"
      },
      "execution_count": null,
      "outputs": [
        {
          "output_type": "stream",
          "name": "stdout",
          "text": [
            "[[ 1  2  3 44]\n",
            " [ 1  2  3  4]]\n",
            "(2, 4)\n",
            "2\n"
          ]
        }
      ]
    },
    {
      "cell_type": "code",
      "source": [
        "import numpy as np\n",
        "\n",
        "x = np.array([[1,2,3,44,6],[1,2,3,4,5],[1,2,4,6,7],[4,5,6,7,8]])\n",
        "\n",
        "print(x)\n",
        "print(x.shape)\n",
        "print(x.ndim)"
      ],
      "metadata": {
        "colab": {
          "base_uri": "https://localhost:8080/"
        },
        "id": "pNFcgkmZ2urs",
        "outputId": "97864702-5b35-41d0-8a13-f365b28e4096"
      },
      "execution_count": null,
      "outputs": [
        {
          "output_type": "stream",
          "name": "stdout",
          "text": [
            "[[ 1  2  3 44  6]\n",
            " [ 1  2  3  4  5]\n",
            " [ 1  2  4  6  7]\n",
            " [ 4  5  6  7  8]]\n",
            "(4, 5)\n",
            "2\n"
          ]
        }
      ]
    },
    {
      "cell_type": "code",
      "source": [
        "import numpy as np\n",
        "\n",
        "x = np.array([[1,2,3,44,7,8],[1,2,3,4,5,6]])\n",
        "\n",
        "print(x)\n",
        "print(x.shape)\n",
        "print(x.ndim)"
      ],
      "metadata": {
        "colab": {
          "base_uri": "https://localhost:8080/"
        },
        "id": "vXGmkDyw3JQD",
        "outputId": "b9278677-ee02-4118-d407-0544f4d993cf"
      },
      "execution_count": null,
      "outputs": [
        {
          "output_type": "stream",
          "name": "stdout",
          "text": [
            "[[ 1  2  3 44  7  8]\n",
            " [ 1  2  3  4  5  6]]\n",
            "(2, 6)\n",
            "2\n"
          ]
        }
      ]
    },
    {
      "cell_type": "code",
      "source": [
        "x = np.array([[[2,4,5],[3,4,5],],[[3,4,5],[3,4,5]]])\n",
        "\n",
        "print(x)\n",
        "print(type(x))\n",
        "print(x.ndim)\n",
        "print(x.shape)"
      ],
      "metadata": {
        "colab": {
          "base_uri": "https://localhost:8080/"
        },
        "id": "4L0y5KXU3V3r",
        "outputId": "bd8ed385-f9e1-4b67-ffda-0506d71a4c9b"
      },
      "execution_count": null,
      "outputs": [
        {
          "output_type": "stream",
          "name": "stdout",
          "text": [
            "[[[2 4 5]\n",
            "  [3 4 5]]\n",
            "\n",
            " [[3 4 5]\n",
            "  [3 4 5]]]\n",
            "<class 'numpy.ndarray'>\n",
            "3\n",
            "(2, 2, 3)\n"
          ]
        }
      ]
    },
    {
      "cell_type": "code",
      "source": [
        "#(2,4,2)\n",
        "\n",
        "x = np.array([[[2,2],[2,3],[4,4],[5,5]],\n",
        "             [[2,2],[3,4],[5,6],[7,8]]])\n",
        "\n",
        "print(x)\n",
        "print(type(x))\n",
        "print(x.ndim)\n",
        "print(x.shape)"
      ],
      "metadata": {
        "colab": {
          "base_uri": "https://localhost:8080/"
        },
        "id": "GL8v8GIx5_Ez",
        "outputId": "4f9d92bc-bb15-491e-9b1c-2186899ce94b"
      },
      "execution_count": null,
      "outputs": [
        {
          "output_type": "stream",
          "name": "stdout",
          "text": [
            "[[[2 2]\n",
            "  [2 3]\n",
            "  [4 4]\n",
            "  [5 5]]\n",
            "\n",
            " [[2 2]\n",
            "  [3 4]\n",
            "  [5 6]\n",
            "  [7 8]]]\n",
            "<class 'numpy.ndarray'>\n",
            "3\n",
            "(2, 4, 2)\n"
          ]
        }
      ]
    },
    {
      "cell_type": "code",
      "source": [
        "#(3,2,3)\n",
        "\n",
        "x = np.array([[[2,3,4],[2,3,4]],\n",
        "             [[1,2,3],[3,5,6]],\n",
        "             [[3,4,5],[7,8,9]]])\n",
        "\n",
        "print(x)\n",
        "print(type(x))\n",
        "print(x.ndim)\n",
        "print(x.shape)"
      ],
      "metadata": {
        "colab": {
          "base_uri": "https://localhost:8080/"
        },
        "id": "2ISH88oE6wDB",
        "outputId": "4de1b62a-2283-40a1-bd7d-75485b88e5b5"
      },
      "execution_count": null,
      "outputs": [
        {
          "output_type": "stream",
          "name": "stdout",
          "text": [
            "[[[2 3 4]\n",
            "  [2 3 4]]\n",
            "\n",
            " [[1 2 3]\n",
            "  [3 5 6]]\n",
            "\n",
            " [[3 4 5]\n",
            "  [7 8 9]]]\n",
            "<class 'numpy.ndarray'>\n",
            "3\n",
            "(3, 2, 3)\n"
          ]
        }
      ]
    },
    {
      "cell_type": "code",
      "source": [
        "#(4,2,2)\n",
        "x = np.array([[[2,2],[4,6]],\n",
        "             [[2,5],[6,8]],\n",
        "             [[5,8],[6,8]],\n",
        "             [[7,7],[78,9]]])\n",
        "\n",
        "print(x)\n",
        "print(type(x))\n",
        "print(x.ndim)\n",
        "print(x.shape)"
      ],
      "metadata": {
        "colab": {
          "base_uri": "https://localhost:8080/"
        },
        "id": "Y7kgntII7bt8",
        "outputId": "a2235dcd-262a-4825-f736-9313b85cb82c"
      },
      "execution_count": null,
      "outputs": [
        {
          "output_type": "stream",
          "name": "stdout",
          "text": [
            "[[[ 2  2]\n",
            "  [ 4  6]]\n",
            "\n",
            " [[ 2  5]\n",
            "  [ 6  8]]\n",
            "\n",
            " [[ 5  8]\n",
            "  [ 6  8]]\n",
            "\n",
            " [[ 7  7]\n",
            "  [78  9]]]\n",
            "<class 'numpy.ndarray'>\n",
            "3\n",
            "(4, 2, 2)\n"
          ]
        }
      ]
    },
    {
      "cell_type": "code",
      "source": [
        "\n",
        "import numpy as np\n",
        "np.zeros((2,3,4))"
      ],
      "metadata": {
        "id": "rTJjKKrZ756z",
        "colab": {
          "base_uri": "https://localhost:8080/"
        },
        "outputId": "de4e4c45-c686-45be-b7a8-b913f2e45d3e"
      },
      "execution_count": null,
      "outputs": [
        {
          "output_type": "execute_result",
          "data": {
            "text/plain": [
              "array([[[0., 0., 0., 0.],\n",
              "        [0., 0., 0., 0.],\n",
              "        [0., 0., 0., 0.]],\n",
              "\n",
              "       [[0., 0., 0., 0.],\n",
              "        [0., 0., 0., 0.],\n",
              "        [0., 0., 0., 0.]]])"
            ]
          },
          "metadata": {},
          "execution_count": 1
        }
      ]
    },
    {
      "cell_type": "code",
      "source": [
        "np.zeros((2,3,4),dtype=int)"
      ],
      "metadata": {
        "id": "06LUk_b-2QeY",
        "colab": {
          "base_uri": "https://localhost:8080/"
        },
        "outputId": "d44c55bb-a9a6-47c5-880b-71e7208f8e38"
      },
      "execution_count": null,
      "outputs": [
        {
          "output_type": "execute_result",
          "data": {
            "text/plain": [
              "array([[[0, 0, 0, 0],\n",
              "        [0, 0, 0, 0],\n",
              "        [0, 0, 0, 0]],\n",
              "\n",
              "       [[0, 0, 0, 0],\n",
              "        [0, 0, 0, 0],\n",
              "        [0, 0, 0, 0]]])"
            ]
          },
          "metadata": {},
          "execution_count": 3
        }
      ]
    },
    {
      "cell_type": "code",
      "source": [
        "np.ones((3,2,1))"
      ],
      "metadata": {
        "colab": {
          "base_uri": "https://localhost:8080/"
        },
        "id": "gWKvz-nLtr8F",
        "outputId": "91cbdebd-8850-4b4d-cf19-94e544b10da3"
      },
      "execution_count": null,
      "outputs": [
        {
          "output_type": "execute_result",
          "data": {
            "text/plain": [
              "array([[[1.],\n",
              "        [1.]],\n",
              "\n",
              "       [[1.],\n",
              "        [1.]],\n",
              "\n",
              "       [[1.],\n",
              "        [1.]]])"
            ]
          },
          "metadata": {},
          "execution_count": 4
        }
      ]
    },
    {
      "cell_type": "code",
      "source": [
        "np.ones((3,2,5),dtype=int)"
      ],
      "metadata": {
        "id": "ZOCW5RSS2QX-",
        "colab": {
          "base_uri": "https://localhost:8080/"
        },
        "outputId": "ba2cf517-ae50-414b-c8fe-a35831fbb4d2"
      },
      "execution_count": null,
      "outputs": [
        {
          "output_type": "execute_result",
          "data": {
            "text/plain": [
              "array([[[1, 1, 1, 1, 1],\n",
              "        [1, 1, 1, 1, 1]],\n",
              "\n",
              "       [[1, 1, 1, 1, 1],\n",
              "        [1, 1, 1, 1, 1]],\n",
              "\n",
              "       [[1, 1, 1, 1, 1],\n",
              "        [1, 1, 1, 1, 1]]])"
            ]
          },
          "metadata": {},
          "execution_count": 5
        }
      ]
    },
    {
      "cell_type": "code",
      "source": [
        "np.arange(10,100,5)"
      ],
      "metadata": {
        "id": "3rgws68b2QU_",
        "colab": {
          "base_uri": "https://localhost:8080/"
        },
        "outputId": "45e1b6ff-ee93-4cef-cbd5-9c1b77914739"
      },
      "execution_count": null,
      "outputs": [
        {
          "output_type": "execute_result",
          "data": {
            "text/plain": [
              "array([10, 15, 20, 25, 30, 35, 40, 45, 50, 55, 60, 65, 70, 75, 80, 85, 90,\n",
              "       95])"
            ]
          },
          "metadata": {},
          "execution_count": 6
        }
      ]
    },
    {
      "cell_type": "code",
      "source": [
        "np.linspace(10,100,10)"
      ],
      "metadata": {
        "colab": {
          "base_uri": "https://localhost:8080/"
        },
        "id": "zM7fcjOGtx7_",
        "outputId": "0f6dc825-1b35-4054-88f6-f47e4d8bd138"
      },
      "execution_count": null,
      "outputs": [
        {
          "output_type": "execute_result",
          "data": {
            "text/plain": [
              "array([ 10.,  20.,  30.,  40.,  50.,  60.,  70.,  80.,  90., 100.])"
            ]
          },
          "metadata": {},
          "execution_count": 7
        }
      ]
    },
    {
      "cell_type": "code",
      "source": [
        "np.linspace(20,80)"
      ],
      "metadata": {
        "colab": {
          "base_uri": "https://localhost:8080/"
        },
        "id": "qDryEtZdt_qp",
        "outputId": "c049335a-8722-4061-9d37-aac1166bd96f"
      },
      "execution_count": null,
      "outputs": [
        {
          "output_type": "execute_result",
          "data": {
            "text/plain": [
              "array([20.        , 21.2244898 , 22.44897959, 23.67346939, 24.89795918,\n",
              "       26.12244898, 27.34693878, 28.57142857, 29.79591837, 31.02040816,\n",
              "       32.24489796, 33.46938776, 34.69387755, 35.91836735, 37.14285714,\n",
              "       38.36734694, 39.59183673, 40.81632653, 42.04081633, 43.26530612,\n",
              "       44.48979592, 45.71428571, 46.93877551, 48.16326531, 49.3877551 ,\n",
              "       50.6122449 , 51.83673469, 53.06122449, 54.28571429, 55.51020408,\n",
              "       56.73469388, 57.95918367, 59.18367347, 60.40816327, 61.63265306,\n",
              "       62.85714286, 64.08163265, 65.30612245, 66.53061224, 67.75510204,\n",
              "       68.97959184, 70.20408163, 71.42857143, 72.65306122, 73.87755102,\n",
              "       75.10204082, 76.32653061, 77.55102041, 78.7755102 , 80.        ])"
            ]
          },
          "metadata": {},
          "execution_count": 8
        }
      ]
    },
    {
      "cell_type": "code",
      "source": [
        "np.full((3,4),10,dtype=int)"
      ],
      "metadata": {
        "colab": {
          "base_uri": "https://localhost:8080/"
        },
        "id": "czYW9JuCuFXV",
        "outputId": "54b8e22d-9b65-4c89-9682-e835b90298cb"
      },
      "execution_count": null,
      "outputs": [
        {
          "output_type": "execute_result",
          "data": {
            "text/plain": [
              "array([[10, 10, 10, 10],\n",
              "       [10, 10, 10, 10],\n",
              "       [10, 10, 10, 10]])"
            ]
          },
          "metadata": {},
          "execution_count": 9
        }
      ]
    },
    {
      "cell_type": "code",
      "source": [
        "np.eye(4,4)"
      ],
      "metadata": {
        "colab": {
          "base_uri": "https://localhost:8080/"
        },
        "id": "uS1Ek4CouKBT",
        "outputId": "8a03b2ce-5538-4710-d4f3-dc96cb7da7a2"
      },
      "execution_count": null,
      "outputs": [
        {
          "output_type": "execute_result",
          "data": {
            "text/plain": [
              "array([[1., 0., 0., 0.],\n",
              "       [0., 1., 0., 0.],\n",
              "       [0., 0., 1., 0.],\n",
              "       [0., 0., 0., 1.]])"
            ]
          },
          "metadata": {},
          "execution_count": 10
        }
      ]
    },
    {
      "cell_type": "code",
      "source": [
        "np.random.random((3,2,2))"
      ],
      "metadata": {
        "colab": {
          "base_uri": "https://localhost:8080/"
        },
        "id": "C1ip8xtEua8H",
        "outputId": "8d435a58-e8ba-44c7-e1ae-65ad52b10124"
      },
      "execution_count": null,
      "outputs": [
        {
          "output_type": "execute_result",
          "data": {
            "text/plain": [
              "array([[[0.01001605, 0.63048976],\n",
              "        [0.82459395, 0.47164775]],\n",
              "\n",
              "       [[0.09304577, 0.45333641],\n",
              "        [0.79553998, 0.36479263]],\n",
              "\n",
              "       [[0.85524255, 0.41032747],\n",
              "        [0.86517126, 0.18944254]]])"
            ]
          },
          "metadata": {},
          "execution_count": 11
        }
      ]
    },
    {
      "cell_type": "code",
      "source": [
        "np.random.randint(100,200,(3,2,2))"
      ],
      "metadata": {
        "colab": {
          "base_uri": "https://localhost:8080/"
        },
        "id": "Nyy_3r64ufOb",
        "outputId": "698d74f3-529e-4f27-d0a4-2922ebdd3a87"
      },
      "execution_count": null,
      "outputs": [
        {
          "output_type": "execute_result",
          "data": {
            "text/plain": [
              "array([[[164, 169],\n",
              "        [115, 105]],\n",
              "\n",
              "       [[185, 189],\n",
              "        [178, 165]],\n",
              "\n",
              "       [[197, 135],\n",
              "        [154, 177]]])"
            ]
          },
          "metadata": {},
          "execution_count": 12
        }
      ]
    },
    {
      "cell_type": "code",
      "source": [
        "np.random.randint(100,size=(3,2,2))"
      ],
      "metadata": {
        "colab": {
          "base_uri": "https://localhost:8080/"
        },
        "id": "NFNoo3s-ukUe",
        "outputId": "4d6eb6d2-7316-4ac6-cc56-a4fdf9c42078"
      },
      "execution_count": null,
      "outputs": [
        {
          "output_type": "execute_result",
          "data": {
            "text/plain": [
              "array([[[ 6, 93],\n",
              "        [86, 76]],\n",
              "\n",
              "       [[ 8, 54],\n",
              "        [11, 79]],\n",
              "\n",
              "       [[34, 39],\n",
              "        [65, 28]]])"
            ]
          },
          "metadata": {},
          "execution_count": 13
        }
      ]
    },
    {
      "cell_type": "code",
      "source": [
        "a = np.array([[1,2,3],[4,5,6]])\n",
        "b = np.array([[7,8,9],[10,11,12]])\n",
        "print(a)\n",
        "print(b)"
      ],
      "metadata": {
        "colab": {
          "base_uri": "https://localhost:8080/"
        },
        "id": "VbGK1kUxunBL",
        "outputId": "840af88c-4eb0-461d-b41c-336b0325d452"
      },
      "execution_count": null,
      "outputs": [
        {
          "output_type": "stream",
          "name": "stdout",
          "text": [
            "[[1 2 3]\n",
            " [4 5 6]]\n",
            "[[ 7  8  9]\n",
            " [10 11 12]]\n"
          ]
        }
      ]
    },
    {
      "cell_type": "code",
      "source": [
        "#add\n",
        "np.add(a,b)"
      ],
      "metadata": {
        "colab": {
          "base_uri": "https://localhost:8080/"
        },
        "id": "uppilOWUusj9",
        "outputId": "fc2cd5e1-257e-4614-fa93-e81fe2b67bcc"
      },
      "execution_count": null,
      "outputs": [
        {
          "output_type": "execute_result",
          "data": {
            "text/plain": [
              "array([[ 8, 10, 12],\n",
              "       [14, 16, 18]])"
            ]
          },
          "metadata": {},
          "execution_count": 15
        }
      ]
    },
    {
      "cell_type": "code",
      "source": [
        "#multiple\n",
        "np.multiply(a,b)"
      ],
      "metadata": {
        "colab": {
          "base_uri": "https://localhost:8080/"
        },
        "id": "nFfZTJrBuvS3",
        "outputId": "b264fcc4-d021-4492-dd81-823d18567354"
      },
      "execution_count": null,
      "outputs": [
        {
          "output_type": "execute_result",
          "data": {
            "text/plain": [
              "array([[ 7, 16, 27],\n",
              "       [40, 55, 72]])"
            ]
          },
          "metadata": {},
          "execution_count": 16
        }
      ]
    },
    {
      "cell_type": "code",
      "source": [
        "#division\n",
        "np.divide(a,b)"
      ],
      "metadata": {
        "colab": {
          "base_uri": "https://localhost:8080/"
        },
        "id": "SHosPlDAuyuA",
        "outputId": "6531ed69-cea9-4261-8ad0-f050139c36b0"
      },
      "execution_count": null,
      "outputs": [
        {
          "output_type": "execute_result",
          "data": {
            "text/plain": [
              "array([[0.14285714, 0.25      , 0.33333333],\n",
              "       [0.4       , 0.45454545, 0.5       ]])"
            ]
          },
          "metadata": {},
          "execution_count": 17
        }
      ]
    },
    {
      "cell_type": "code",
      "source": [
        "#power\n",
        "np.power(a,b)"
      ],
      "metadata": {
        "colab": {
          "base_uri": "https://localhost:8080/"
        },
        "id": "nQBHxs1Hu2ev",
        "outputId": "787554bb-ac40-40f6-cc61-563c74c99cea"
      },
      "execution_count": null,
      "outputs": [
        {
          "output_type": "execute_result",
          "data": {
            "text/plain": [
              "array([[         1,        256,      19683],\n",
              "       [   1048576,   48828125, 2176782336]])"
            ]
          },
          "metadata": {},
          "execution_count": 18
        }
      ]
    },
    {
      "cell_type": "code",
      "source": [
        "import numpy as np\n",
        "a = np.array([[1,2,3,4,7],[3.5,2,4.6,5.8,9.0]])\n",
        "\n",
        "print(a)\n",
        "\n",
        "print(a.shape)\n",
        "\n",
        "print(a.ndim)\n",
        "\n",
        "y = np.floor(a)\n",
        "\n",
        "print(y)"
      ],
      "metadata": {
        "colab": {
          "base_uri": "https://localhost:8080/"
        },
        "id": "38bNXDkBu5RH",
        "outputId": "1419e477-da4e-464c-b004-453798feac5b"
      },
      "execution_count": null,
      "outputs": [
        {
          "output_type": "stream",
          "name": "stdout",
          "text": [
            "[[1.  2.  3.  4.  7. ]\n",
            " [3.5 2.  4.6 5.8 9. ]]\n",
            "(2, 5)\n",
            "2\n",
            "[[1. 2. 3. 4. 7.]\n",
            " [3. 2. 4. 5. 9.]]\n"
          ]
        }
      ]
    },
    {
      "cell_type": "code",
      "source": [
        "import numpy as np\n",
        "a = np.array([[1,2,3,4,7],[3.5,2,4.6,5.8,9.0]])\n",
        "\n",
        "print(a)\n",
        "\n",
        "print(a.shape)\n",
        "\n",
        "print(a.ndim)\n",
        "\n",
        "y = np.ceil(a)\n",
        "\n",
        "print(y)\n"
      ],
      "metadata": {
        "colab": {
          "base_uri": "https://localhost:8080/"
        },
        "id": "1GrOFIO9u893",
        "outputId": "a7ac8294-e5a6-4643-cbb1-0bb2952a7c60"
      },
      "execution_count": null,
      "outputs": [
        {
          "output_type": "stream",
          "name": "stdout",
          "text": [
            "[[1.  2.  3.  4.  7. ]\n",
            " [3.5 2.  4.6 5.8 9. ]]\n",
            "(2, 5)\n",
            "2\n",
            "[[1. 2. 3. 4. 7.]\n",
            " [4. 2. 5. 6. 9.]]\n"
          ]
        }
      ]
    },
    {
      "cell_type": "code",
      "source": [
        "import numpy as np\n",
        "a = np.array([[1,2,3,4,7],[3.5,2,4.6,5.8,9.0]])\n",
        "\n",
        "print(a)\n",
        "\n",
        "print(a.shape)\n",
        "\n",
        "print(a.ndim)\n",
        "\n",
        "y = np.round(a)\n",
        "\n",
        "print(y)"
      ],
      "metadata": {
        "colab": {
          "base_uri": "https://localhost:8080/"
        },
        "id": "43BRjHFqvBUZ",
        "outputId": "9c5bc03f-6092-4b54-daf5-f6abeaefc3c5"
      },
      "execution_count": null,
      "outputs": [
        {
          "output_type": "stream",
          "name": "stdout",
          "text": [
            "[[1.  2.  3.  4.  7. ]\n",
            " [3.5 2.  4.6 5.8 9. ]]\n",
            "(2, 5)\n",
            "2\n",
            "[[1. 2. 3. 4. 7.]\n",
            " [4. 2. 5. 6. 9.]]\n"
          ]
        }
      ]
    },
    {
      "cell_type": "code",
      "source": [
        "import numpy as np\n",
        "a = np.array([[1,2,3,4,7],[3.5,2,4.6,5.8,9.0]])\n",
        "\n",
        "print(a)\n",
        "\n",
        "print(a.shape)\n",
        "\n",
        "print(a.ndim)\n",
        "\n",
        "y = np.rint(a)\n",
        "\n",
        "print(y)"
      ],
      "metadata": {
        "colab": {
          "base_uri": "https://localhost:8080/"
        },
        "id": "mkmVwu1DvFHi",
        "outputId": "7b1f4a91-10a5-498d-88e3-1504b779193f"
      },
      "execution_count": null,
      "outputs": [
        {
          "output_type": "stream",
          "name": "stdout",
          "text": [
            "[[1.  2.  3.  4.  7. ]\n",
            " [3.5 2.  4.6 5.8 9. ]]\n",
            "(2, 5)\n",
            "2\n",
            "[[1. 2. 3. 4. 7.]\n",
            " [4. 2. 5. 6. 9.]]\n"
          ]
        }
      ]
    },
    {
      "cell_type": "code",
      "source": [
        "import numpy as np\n",
        "\n",
        "a = np.array([[1,2,3,4,7],[3.5,2,4.6,5.8,9.0]])\n",
        "\n",
        "print(a)\n",
        "\n",
        "print(type(a))"
      ],
      "metadata": {
        "colab": {
          "base_uri": "https://localhost:8080/"
        },
        "id": "FC7Wuw2IvIt5",
        "outputId": "a4fe3565-5ac0-4836-f06e-af319a3dfa30"
      },
      "execution_count": null,
      "outputs": [
        {
          "output_type": "stream",
          "name": "stdout",
          "text": [
            "[[1.  2.  3.  4.  7. ]\n",
            " [3.5 2.  4.6 5.8 9. ]]\n",
            "<class 'numpy.ndarray'>\n"
          ]
        }
      ]
    },
    {
      "cell_type": "code",
      "source": [
        "import numpy as np\n",
        "\n",
        "a = np.array([[1,2,3,4,7],[3.5,2,4.6,5.8,9.0]])\n",
        "\n",
        "print(a)\n",
        "\n",
        "print(a.dtype)"
      ],
      "metadata": {
        "colab": {
          "base_uri": "https://localhost:8080/"
        },
        "id": "t3FVRRHXvNBn",
        "outputId": "36c59570-d2f6-464d-87e1-9cf75228e332"
      },
      "execution_count": null,
      "outputs": [
        {
          "output_type": "stream",
          "name": "stdout",
          "text": [
            "[[1.  2.  3.  4.  7. ]\n",
            " [3.5 2.  4.6 5.8 9. ]]\n",
            "float64\n"
          ]
        }
      ]
    },
    {
      "cell_type": "code",
      "source": [
        "import numpy as np\n",
        "\n",
        "a = np.array([[1,2,'3',4,7],[3.5,2,4.6,5.8,9.0]])\n",
        "\n",
        "print(a)\n",
        "\n",
        "print(a.dtype)"
      ],
      "metadata": {
        "colab": {
          "base_uri": "https://localhost:8080/"
        },
        "id": "NG86rZrkvQ6C",
        "outputId": "35a02a95-943d-4617-a06b-54d3a492bd17"
      },
      "execution_count": null,
      "outputs": [
        {
          "output_type": "stream",
          "name": "stdout",
          "text": [
            "[['1' '2' '3' '4' '7']\n",
            " ['3.5' '2' '4.6' '5.8' '9.0']]\n",
            "<U32\n"
          ]
        }
      ]
    },
    {
      "cell_type": "code",
      "source": [
        "import numpy as np\n",
        "\n",
        "a = np.array([[1,2,'3',4,7],[3.5,2,4.6,5.8,9.0]])\n",
        "\n",
        "print(a)\n",
        "\n",
        "x = a.astype(complex)\n",
        "\n",
        "print(x)\n",
        "\n",
        "print(a.dtype)"
      ],
      "metadata": {
        "id": "D3r5z4wavURK",
        "outputId": "85bf3f11-1ef0-48a8-a3d8-62f51d46e939",
        "colab": {
          "base_uri": "https://localhost:8080/"
        }
      },
      "execution_count": null,
      "outputs": [
        {
          "output_type": "stream",
          "name": "stdout",
          "text": [
            "[['1' '2' '3' '4' '7']\n",
            " ['3.5' '2' '4.6' '5.8' '9.0']]\n",
            "[[1. +0.j 2. +0.j 3. +0.j 4. +0.j 7. +0.j]\n",
            " [3.5+0.j 2. +0.j 4.6+0.j 5.8+0.j 9. +0.j]]\n",
            "<U32\n"
          ]
        }
      ]
    },
    {
      "cell_type": "code",
      "source": [],
      "metadata": {
        "id": "zQ9BaJWBvXu9"
      },
      "execution_count": null,
      "outputs": []
    }
  ]
}